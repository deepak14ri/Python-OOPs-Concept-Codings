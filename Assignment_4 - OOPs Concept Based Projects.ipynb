{
  "cells": [
    {
      "cell_type": "markdown",
      "source": [
        "## **OOPs Concept**"
      ],
      "metadata": {
        "id": "8bpSsb-jaZRH"
      }
    },
    {
      "cell_type": "markdown",
      "source": [
        "**Inheritance**: [Organization: 1. Teacher 2. Student]\n",
        "\n"
      ],
      "metadata": {
        "id": "je7Qfk6MYphu"
      }
    },
    {
      "cell_type": "code",
      "source": [
        "class SchoolMember:\n",
        "  def __init__(self,name,age,address):\n",
        "    self.name = name\n",
        "    self.age = age\n",
        "    self.address = address\n",
        "    print('Initialized School Member:')\n",
        "  def tell(self):\n",
        "    print(' I am {}. I am {} year old. And I live in {}'.format(self.name,self.age,self.address))\n",
        "\n",
        "class Teacher(SchoolMember):\n",
        "  def __init__(self,salary,courses):\n",
        "    self.salary = salary \n",
        "    self.courses = courses\n",
        "\n",
        "  def tell(self):\n",
        "    print('Initialized Teacher:')\n",
        "    print(' Here teacher salary is ${}, and courses are {}.'.format(self.salary,self.courses))\n",
        "\n",
        "class Student(Teacher):\n",
        "  def __init__(self,mark,fees):\n",
        "    self.mark = mark\n",
        "    self.fees = fees\n",
        "  def tell(self):\n",
        "    print('Initialized Student:')\n",
        "    print(' Rohit get {}/100. And His annual fees is over ${}.'.format(self.mark,self.fees))\n",
        "\n",
        "obj1 = SchoolMember('Rohit',21,'Bengaluru')  \n",
        "obj1.tell()\n",
        "\n",
        "obj2 = Teacher(5000,'Math and Science')\n",
        "obj2.tell()\n",
        "\n",
        "obj3 = Student(95,'5000')\n",
        "obj3.tell()"
      ],
      "metadata": {
        "colab": {
          "base_uri": "https://localhost:8080/"
        },
        "id": "amJOXTksUxAj",
        "outputId": "f4c63046-60c1-404f-b8a6-37d148cb09b8"
      },
      "execution_count": null,
      "outputs": [
        {
          "output_type": "stream",
          "name": "stdout",
          "text": [
            "Initialized School Member:\n",
            " I am Rohit. I am 21 year old. And I live in Bengaluru\n",
            "Initialized Teacher:\n",
            " Here teacher salary is $5000, and courses are Math and Science.\n",
            "Initialized Student:\n",
            " Rohit get 95/100. And His annual fees is over $5000.\n"
          ]
        }
      ]
    },
    {
      "cell_type": "markdown",
      "source": [
        "**Classes and Objects**: [University: 1. Add student 2. Delete Student 3. Count Student]"
      ],
      "metadata": {
        "id": "2n9l_rgTZHUC"
      }
    },
    {
      "cell_type": "code",
      "source": [
        "class University:\n",
        "  no_of_student = 0\n",
        "\n",
        "  def __init__(self,studentName):\n",
        "    self.studentName = studentName \n",
        "    print('Initializing {}'.format(self.studentName))\n",
        "    University.no_of_student += 1\n",
        "\n",
        "  def delStudent(self):\n",
        "    print('{} is not following rules so lets terminate.'.format(self.studentName))\n",
        "    if University.no_of_student == 0:\n",
        "      print('{} is last student of University.'.format(self.studentName))\n",
        "    else:\n",
        "      University.no_of_student -= 1\n",
        "      \n",
        "  def countStudent(self):\n",
        "    print('There are still {} student studying.'.format(University.no_of_student))\n",
        "\n",
        "  def say_hi(self):\n",
        "    print('Greetings, My master call me {}.'.format(self.studentName))\n",
        "  \n",
        "  @classmethod\n",
        "  def countStudent(cls):\n",
        "    print('We have total {} students.'.format(cls.no_of_student))\n",
        "\n",
        "stName1 = University('Ram')\n",
        "stName1.say_hi()\n",
        "stName2 = University('Shyam')\n",
        "stName2.say_hi()\n",
        "University.countStudent()\n",
        "stName2.delStudent()\n",
        "University.countStudent()"
      ],
      "metadata": {
        "id": "ZG3xUbk1UzPn",
        "colab": {
          "base_uri": "https://localhost:8080/"
        },
        "outputId": "9df46a3a-ac87-458c-f374-9801a2ad73e8"
      },
      "execution_count": null,
      "outputs": [
        {
          "output_type": "stream",
          "name": "stdout",
          "text": [
            "Initializing Ram\n",
            "Greetings, My master call me Ram.\n",
            "Initializing Shyam\n",
            "Greetings, My master call me Shyam.\n",
            "We have total 2 students.\n",
            "Shyam is not following rules so lets terminate.\n",
            "We have total 1 students.\n"
          ]
        }
      ]
    },
    {
      "cell_type": "markdown",
      "source": [
        "**Abstract Method**: [Using different Toys names]\n"
      ],
      "metadata": {
        "id": "9mT18x_xZuif"
      }
    },
    {
      "cell_type": "code",
      "source": [
        "from abc import ABC, abstractmethod\n",
        "class Toys(ABC):\n",
        "  def __init__(self):\n",
        "    pass\n",
        "\n",
        "  def teddy_bear(self):\n",
        "    print('Hi, I am teddy bear, and kids love me.')  \n",
        "  \n",
        "  def bicycle(self):\n",
        "    print('Hi, I am bicycle, and people use me to being healthy.')\n",
        "  \n",
        "  def kite(self):\n",
        "    print('Hi, I am kite, and I love to fly in sky.')\n",
        "\n",
        "toy1 = Toys()\n",
        "toy1.teddy_bear()\n",
        "\n",
        "toy2 = Toys()\n",
        "toy2.bicycle()\n",
        "\n",
        "toy3 = Toys()\n",
        "toy3.kite()"
      ],
      "metadata": {
        "colab": {
          "base_uri": "https://localhost:8080/"
        },
        "id": "gL_SbKD1Zs1l",
        "outputId": "726a38a5-5524-4f60-a7fb-7636a7c5cb3d"
      },
      "execution_count": null,
      "outputs": [
        {
          "output_type": "stream",
          "name": "stdout",
          "text": [
            "Hi, I am teddy bear, and kids love me.\n",
            "Hi, I am bicycle, and people use me to being healthy.\n",
            "Hi, I am kite, and I love to fly in sky.\n"
          ]
        }
      ]
    },
    {
      "cell_type": "code",
      "source": [
        ""
      ],
      "metadata": {
        "id": "UYXp27Y3Z9pm"
      },
      "execution_count": null,
      "outputs": []
    }
  ],
  "metadata": {
    "colab": {
      "name": "Assignment 4.ipynb",
      "provenance": [],
      "collapsed_sections": []
    },
    "kernelspec": {
      "display_name": "Python 3",
      "name": "python3"
    },
    "language_info": {
      "name": "python"
    }
  },
  "nbformat": 4,
  "nbformat_minor": 0
}
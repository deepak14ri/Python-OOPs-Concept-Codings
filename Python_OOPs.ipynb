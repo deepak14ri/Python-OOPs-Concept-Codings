{
  "cells": [
    {
      "cell_type": "markdown",
      "source": [
        "**Basic format of Class and object representation**"
      ],
      "metadata": {
        "id": "RBYbJCZyribi"
      }
    },
    {
      "cell_type": "code",
      "source": [
        "#Class `Person`\n",
        "class Person:\n",
        "#__init__ constructor function\n",
        "  def __init__(self,name,age,grade): #name,age,grade-->object variable(properties of object)\n",
        "    self.name = name # object variable\n",
        "    self.age = age \n",
        "    self.grade = grade \n",
        "# built-in function for this class `Person`\n",
        "  def say_hi(self): # method\n",
        "\n",
        "    print('Hello, my name is {}.'.format(self.name),'I am',self.age, 'year old. And I am studying in grade {}.'.format(self.grade)) \n",
        "    # remember to input the `name, age, and grade` as Class argument\n",
        "\n",
        "p = Person('Jill',12,8)  # instatiate an object `p` from class `Person`\n",
        "p.say_hi() # call built-in method\n"
      ],
      "metadata": {
        "colab": {
          "base_uri": "https://localhost:8080/"
        },
        "id": "e55FrNVCn0U-",
        "outputId": "c391aa68-56eb-4e1d-df97-f147d5b39ec0"
      },
      "execution_count": null,
      "outputs": [
        {
          "output_type": "stream",
          "name": "stdout",
          "text": [
            "Hello, my name is Jill. I am 12 year old. And I am studying in grade 8.\n"
          ]
        }
      ]
    },
    {
      "cell_type": "markdown",
      "source": [
        "**Class**: A Class is like an object constructor, or a \"blueprint\" for creating objects."
      ],
      "metadata": {
        "id": "VteCDDyb472R"
      }
    },
    {
      "cell_type": "code",
      "source": [
        "class Person:\n",
        "  'Hey there, This is Deepak here.'\n",
        "  pass\n",
        "obj = Person()\n",
        "print(obj)\n",
        "print(Person.__doc__)"
      ],
      "metadata": {
        "colab": {
          "base_uri": "https://localhost:8080/"
        },
        "id": "RS9ZOZoBvZmk",
        "outputId": "d4858277-9934-40bd-af0f-07984b667e14"
      },
      "execution_count": null,
      "outputs": [
        {
          "output_type": "stream",
          "name": "stdout",
          "text": [
            "<__main__.Person object at 0x7f422d84b050>\n",
            "Hey there, This is Deepak here.\n"
          ]
        }
      ]
    },
    {
      "cell_type": "code",
      "execution_count": null,
      "metadata": {
        "colab": {
          "base_uri": "https://localhost:8080/"
        },
        "id": "vdYh3xDkhagW",
        "outputId": "d85dba89-8f0f-489a-d214-50ad05811f79"
      },
      "outputs": [
        {
          "output_type": "stream",
          "name": "stdout",
          "text": [
            "sum of a & b is 5\n"
          ]
        }
      ],
      "source": [
        "class Person:\n",
        "  def method(self,a,b):\n",
        "    return 'sum of a & b is {}'.format(a+b)\n",
        "obj = Person() #Person(2,3)-->>TypeError: Person() takes no arguments\n",
        "print(obj.method(2,3)) #Output-->5"
      ]
    },
    {
      "cell_type": "code",
      "source": [
        "def is_even(num):\n",
        "  check = 'Even' if num % 2 == 0 else 'Odd'\n",
        "  return 'Given num is {}'.format(check)\n",
        "help(is_even) #Helf funtion will print when we don't print anything.\n",
        "num = int(input())\n",
        "print(is_even(num))"
      ],
      "metadata": {
        "colab": {
          "base_uri": "https://localhost:8080/"
        },
        "id": "emtaT_8tjgR2",
        "outputId": "4443600b-efea-4623-b532-a71c0aaed94d"
      },
      "execution_count": null,
      "outputs": [
        {
          "output_type": "stream",
          "name": "stdout",
          "text": [
            "Help on function is_even in module __main__:\n",
            "\n",
            "is_even(num)\n",
            "\n",
            "2\n",
            "Given num is Even\n"
          ]
        }
      ]
    },
    {
      "cell_type": "markdown",
      "source": [
        "**Class Attribute**: A python variable that belongs to a class rather than a particular object."
      ],
      "metadata": {
        "id": "EswrBcpl34XF"
      }
    },
    {
      "cell_type": "code",
      "source": [
        "class Person:\n",
        "  no_of_person = 8\n",
        "  def __init__(self):\n",
        "    pass\n",
        "obj = Person()\n",
        "print(obj.no_of_person)"
      ],
      "metadata": {
        "colab": {
          "base_uri": "https://localhost:8080/"
        },
        "id": "l1ToZdpKy-SY",
        "outputId": "87f530db-bd7e-40ae-e733-4ec3de9fee7c"
      },
      "execution_count": null,
      "outputs": [
        {
          "output_type": "stream",
          "name": "stdout",
          "text": [
            "8\n"
          ]
        }
      ]
    },
    {
      "cell_type": "code",
      "source": [
        "class Person:\n",
        "  no_of_person = 8\n",
        "  def __init__(self,name):\n",
        "    self.name = name\n",
        "    Person.no_of_person += 1\n",
        "print(Person.no_of_person)"
      ],
      "metadata": {
        "colab": {
          "base_uri": "https://localhost:8080/"
        },
        "id": "tLJa8Iwg2W9I",
        "outputId": "6f9cfa75-ce90-4bd0-e925-a3f8a0433a80"
      },
      "execution_count": null,
      "outputs": [
        {
          "output_type": "stream",
          "name": "stdout",
          "text": [
            "8\n"
          ]
        }
      ]
    },
    {
      "cell_type": "code",
      "source": [
        "class Person:\n",
        "  no_of_person = 8\n",
        "  def __init__(self,name):\n",
        "    self.name = name\n",
        "    Person.no_of_person += 1\n",
        "obj = Person('Jim')\n",
        "obj = Person('Sam')\n",
        "obj = Person('Tom')\n",
        "print(Person.no_of_person)"
      ],
      "metadata": {
        "colab": {
          "base_uri": "https://localhost:8080/"
        },
        "id": "SsSrjrL428CA",
        "outputId": "6f41a62e-12d3-42f1-aec4-129793cb845d"
      },
      "execution_count": null,
      "outputs": [
        {
          "output_type": "stream",
          "name": "stdout",
          "text": [
            "11\n"
          ]
        }
      ]
    },
    {
      "cell_type": "code",
      "source": [
        "class Person:\n",
        "  def __init__(self, name):\n",
        "    self.name = name\n",
        "  def sayHi(self):\n",
        "    return self.name  \n",
        "obj = Person('Deepak')\n",
        "print(obj.sayHi())"
      ],
      "metadata": {
        "colab": {
          "base_uri": "https://localhost:8080/"
        },
        "id": "tuTA1DjosOGu",
        "outputId": "aa1ed8ef-559c-4ca0-e6b2-a2f318a7b6c7"
      },
      "execution_count": null,
      "outputs": [
        {
          "output_type": "stream",
          "name": "stdout",
          "text": [
            "Deepak\n"
          ]
        }
      ]
    },
    {
      "cell_type": "code",
      "source": [
        "class Person:\n",
        "  def __init__(self, name):\n",
        "    self.name = name\n",
        "    print(self.name)\n",
        "  def sayHi(self,name):\n",
        "    return self.name  \n",
        "obj = Person('Deepak')\n",
        "print(obj.sayHi('Vivek'))"
      ],
      "metadata": {
        "colab": {
          "base_uri": "https://localhost:8080/"
        },
        "id": "euYY1ODjYZxy",
        "outputId": "4e28bb04-8c7e-4038-c6ef-535357f52e61"
      },
      "execution_count": null,
      "outputs": [
        {
          "output_type": "stream",
          "name": "stdout",
          "text": [
            "Deepak\n",
            "Deepak\n"
          ]
        }
      ]
    },
    {
      "cell_type": "code",
      "source": [
        "class Person:\n",
        "  def __init__(self, name):\n",
        "    self.name = name\n",
        "    print(self.name)\n",
        "  def sayHi(self):\n",
        "    return self.name  \n",
        "obj = Person('Deepak')\n",
        "print(obj.__init__('Vivek'))"
      ],
      "metadata": {
        "colab": {
          "base_uri": "https://localhost:8080/"
        },
        "id": "DKWA5OueZg2d",
        "outputId": "eac88857-9201-47a9-da3c-5f7b23f1db92"
      },
      "execution_count": null,
      "outputs": [
        {
          "output_type": "stream",
          "name": "stdout",
          "text": [
            "Deepak\n",
            "Vivek\n",
            "None\n"
          ]
        }
      ]
    },
    {
      "cell_type": "code",
      "source": [
        "class Person:\n",
        "  def __init__(self, name):\n",
        "    self.name = name\n",
        "    print(self.name)\n",
        "  def sayHi(self):\n",
        "    pass   \n",
        "obj = Person('Deepak')\n",
        "print(obj.sayHi())"
      ],
      "metadata": {
        "colab": {
          "base_uri": "https://localhost:8080/"
        },
        "id": "LEHj13M4aGkQ",
        "outputId": "77afd438-b3c2-474a-ae15-dc606fd45edf"
      },
      "execution_count": null,
      "outputs": [
        {
          "output_type": "stream",
          "name": "stdout",
          "text": [
            "Deepak\n",
            "None\n"
          ]
        }
      ]
    },
    {
      "cell_type": "code",
      "source": [
        "class Car:\n",
        "  def __init__(self,modelname,price,manufact_year):\n",
        "    self.modelname = modelname\n",
        "    self.price = price\n",
        "    self.manufact_year = manufact_year\n",
        "honda = Car('city',100000,2020)\n",
        "tata = Car('bolt',600000,2021)\n",
        "print(tata.__dict__)"
      ],
      "metadata": {
        "colab": {
          "base_uri": "https://localhost:8080/"
        },
        "id": "0tJWgXYwaw21",
        "outputId": "4d6f607b-e3e4-478b-9bfb-7109669af041"
      },
      "execution_count": null,
      "outputs": [
        {
          "output_type": "stream",
          "name": "stdout",
          "text": [
            "{'modelname': 'bolt', 'price': 600000, 'manufact_year': 2021}\n"
          ]
        }
      ]
    },
    {
      "cell_type": "code",
      "source": [
        "class Car:\n",
        "  def __init__(self,modelname,price,manufact_year):\n",
        "    self.modelname = modelname\n",
        "    self.price = price\n",
        "    self.manufact_year = manufact_year\n",
        "honda = Car('city',100000,2020)\n",
        "tata = Car('bolt',600000,2021)\n",
        "tata.manufact_year = 2022\n",
        "print(tata.__dict__)"
      ],
      "metadata": {
        "colab": {
          "base_uri": "https://localhost:8080/"
        },
        "id": "TphiEmehrrrH",
        "outputId": "7f1cb8c8-5f57-45eb-da33-0dc168c97c10"
      },
      "execution_count": null,
      "outputs": [
        {
          "output_type": "stream",
          "name": "stdout",
          "text": [
            "{'modelname': 'bolt', 'price': 600000, 'manufact_year': 2022}\n"
          ]
        }
      ]
    },
    {
      "cell_type": "code",
      "source": [
        "class Car:\n",
        "  def __init__(self,modelname,price,manufact_year):\n",
        "    self.modelname = modelname\n",
        "    self.price = price\n",
        "    self.manufact_year = manufact_year\n",
        "honda = Car('city',100000,2020)\n",
        "tata = Car('bolt',600000,2021)\n",
        "tata.manufact_year = 2022\n",
        "honda.cc = 1500\n",
        "print(honda.__dict__)"
      ],
      "metadata": {
        "colab": {
          "base_uri": "https://localhost:8080/"
        },
        "id": "TjNRmTuBsfzI",
        "outputId": "2478137c-b967-44f5-f6ca-d53dfd3fd3c8"
      },
      "execution_count": null,
      "outputs": [
        {
          "output_type": "stream",
          "name": "stdout",
          "text": [
            "{'modelname': 'city', 'price': 100000, 'manufact_year': 2020, 'cc': 1500}\n"
          ]
        }
      ]
    },
    {
      "cell_type": "code",
      "source": [
        "class Car:\n",
        "  def __init__(self,modelname,price,manufact_year):\n",
        "    self.modelname = modelname\n",
        "    self.price = price\n",
        "    self.manufact_year = manufact_year\n",
        "  def hikePrice(self):\n",
        "    self.price = int(self.price*1.5)\n",
        "honda = Car('city',100000,2020)\n",
        "tata = Car('bolt',600000,2021)\n",
        "tata.manufact_year = 2022\n",
        "honda.cc = 1500\n",
        "honda.hikePrice()\n",
        "print(honda.price)\n",
        "print(honda.__dict__)"
      ],
      "metadata": {
        "colab": {
          "base_uri": "https://localhost:8080/"
        },
        "id": "vetYEBdVsoeE",
        "outputId": "2f0f07ba-d4f1-4595-bb80-c1e53b2dc790"
      },
      "execution_count": null,
      "outputs": [
        {
          "output_type": "stream",
          "name": "stdout",
          "text": [
            "150000\n",
            "{'modelname': 'city', 'price': 150000, 'manufact_year': 2020, 'cc': 1500}\n"
          ]
        }
      ]
    },
    {
      "cell_type": "code",
      "source": [
        "class BankAccount:\n",
        "    def __init__(self, balance):\n",
        "        self.balance = balance\n",
        "        \n",
        "    def __add__(self,other):\n",
        "        return BankAccount(self.balance + other.balance) #imp. line\n",
        "\n",
        "a = BankAccount(1024)\n",
        "b = BankAccount(42)\n",
        "\n",
        "result = a + b\n",
        "print(result.balance)"
      ],
      "metadata": {
        "colab": {
          "base_uri": "https://localhost:8080/"
        },
        "id": "rGfEu-iWmDE0",
        "outputId": "8bbcb5f8-7af4-4057-e71e-76a2c290e61a"
      },
      "execution_count": null,
      "outputs": [
        {
          "output_type": "stream",
          "name": "stdout",
          "text": [
            "1066\n"
          ]
        }
      ]
    },
    {
      "cell_type": "markdown",
      "source": [
        "**Inheritance**: The procedure in which one class inherits the attributes and methods of another class.)"
      ],
      "metadata": {
        "id": "93zjtqQf4J4-"
      }
    },
    {
      "cell_type": "code",
      "source": [
        "class Car:\n",
        "  def __init__(self,modelname,price,manufact_year):\n",
        "    self.modelname = modelname\n",
        "    self.price = price\n",
        "    self.manufact_year = manufact_year\n",
        "  def hikePrice(self):\n",
        "    self.price = int(self.price*1.5)\n",
        "honda = Car('city',100000,2020)\n",
        "tata = Car('bolt',600000,2021)\n",
        "tata.manufact_year = 2022\n",
        "honda.cc = 1500\n",
        "honda.hikePrice()\n",
        "class superCar(Car):\n",
        "  pass\n",
        "print(honda.__dict__)\n"
      ],
      "metadata": {
        "colab": {
          "base_uri": "https://localhost:8080/"
        },
        "id": "UN2XINoEuRof",
        "outputId": "c91ecad7-7fff-45ee-e2d8-b8753302cb91"
      },
      "execution_count": null,
      "outputs": [
        {
          "output_type": "stream",
          "name": "stdout",
          "text": [
            "{'modelname': 'city', 'price': 150000, 'manufact_year': 2020, 'cc': 1500}\n"
          ]
        }
      ]
    },
    {
      "cell_type": "code",
      "source": [
        "class Car:\n",
        "  def __init__(self,modelname,price,manufact_year):\n",
        "    self.modelname = modelname\n",
        "    self.price = price\n",
        "    self.manufact_year = manufact_year\n",
        "  def hikePrice(self):\n",
        "    self.price = int(self.price*1.5)\n",
        "\n",
        "class superCar(Car):\n",
        "  def __init__(self,modelname,price,manufact_year,cc):\n",
        "    super.__dict__(modelname,price,manufact_year)\n",
        "    self.cc = cc\n",
        "honda = Car('city',100000,2020)\n",
        "tata = Car('bolt',600000,2021)\n",
        "tata.manufact_year = 2022\n",
        "honda.cc = 1500\n",
        "honda.hikePrice()\n",
        "print(honda.__dict__)"
      ],
      "metadata": {
        "colab": {
          "base_uri": "https://localhost:8080/"
        },
        "id": "NH90inACxm_T",
        "outputId": "d332a63c-ec1d-4855-94b2-15c7b20a9849"
      },
      "execution_count": null,
      "outputs": [
        {
          "output_type": "stream",
          "name": "stdout",
          "text": [
            "{'modelname': 'city', 'price': 150000, 'manufact_year': 2020, 'cc': 1500}\n"
          ]
        }
      ]
    },
    {
      "cell_type": "code",
      "source": [
        "class Vehicle: \n",
        "    def horn(self):\n",
        "        print(\"Beep!\")\n",
        "\n",
        "class Car(Vehicle):\n",
        "    def __init__(self, name, color):\n",
        "        self.name = name\n",
        "        self.color = color\n",
        "\n",
        "obj = Car(\"BMW\", \"red\")\n",
        "obj2 = Vehicle()\n",
        "obj2.horn()\n"
      ],
      "metadata": {
        "colab": {
          "base_uri": "https://localhost:8080/"
        },
        "id": "Sbe-hjHumzCq",
        "outputId": "6a94d881-85c3-45c9-a8c9-51cd6407c9b0"
      },
      "execution_count": null,
      "outputs": [
        {
          "output_type": "stream",
          "name": "stdout",
          "text": [
            "Beep!\n"
          ]
        }
      ]
    },
    {
      "cell_type": "code",
      "source": [
        "class SchoolMember:\n",
        "  def __init__(self,name,age,address):\n",
        "    self.name = name\n",
        "    self.age = age\n",
        "    self.address = address\n",
        "    print('Initialized School Member:')\n",
        "  def tell(self):\n",
        "    print(' I am {}. I am {} year old. And I live in {}'.format(self.name,self.age,self.address))\n",
        "\n",
        "class Teacher(SchoolMember):\n",
        "  def __init__(self,salary,courses):\n",
        "    self.salary = salary \n",
        "    self.courses = courses\n",
        "\n",
        "  def tell(self):\n",
        "    print('Initialized Teacher:')\n",
        "    print(' Here teacher salary is ${}, and courses are {}.'.format(self.salary,self.courses))\n",
        "\n",
        "class Student(Teacher):\n",
        "  def __init__(self,mark,fees):\n",
        "    self.mark = mark\n",
        "    self.fees = fees\n",
        "  def tell(self):\n",
        "    print('Initialized Student:')\n",
        "    print(' Rohit get {}/100. And His annual fees is over ${}.'.format(self.mark,self.fees))\n",
        "\n",
        "obj1 = SchoolMember('Rohit',21,'Bengaluru')  \n",
        "obj1.tell()\n",
        "\n",
        "obj2 = Teacher(5000,'Math and Science')\n",
        "obj2.tell()\n",
        "\n",
        "obj3 = Student(95,'5000')\n",
        "obj3.tell()"
      ],
      "metadata": {
        "id": "DYM1PTPM3Rtt",
        "colab": {
          "base_uri": "https://localhost:8080/"
        },
        "outputId": "ef1ba4ea-2cec-4a15-b4e1-01c9f06eef42"
      },
      "execution_count": null,
      "outputs": [
        {
          "output_type": "stream",
          "name": "stdout",
          "text": [
            "Initialized School Member:\n",
            " I am Rohit. I am 21 year old. And I live in Bengaluru\n",
            "Initialized Teacher:\n",
            " Here teacher salary is $5000, and courses are Math and Science.\n",
            "Initialized Student:\n",
            " Rohit get 95/100. And His annual fees is over $5000.\n"
          ]
        }
      ]
    },
    {
      "cell_type": "code",
      "source": [
        "class SchoolMember:\n",
        "  def __init__(self, name, age):\n",
        "    self.name = name\n",
        "    self.age = age\n",
        "    print('(Initialized SchoolMember: {})'.format(self.name))\n",
        "  def tell(self):\n",
        "    print('Name:\"{}\" Age:\"{}\"'.format(self.name, self.age), end=\" \")\n",
        "\n",
        "class Teacher(SchoolMember):\n",
        "  def __init__(self, name, age, salary):\n",
        "    SchoolMember.__init__(self, name, age)\n",
        "    self.salary = salary\n",
        "    print('(Initialized Teacher: {})'.format(self.name))\n",
        "    def tell(self):\n",
        "      SchoolMember.tell(self)\n",
        "      print('Salary: \"{:d}\"'.format(self.salary))\n",
        "\n",
        "class Student(SchoolMember):\n",
        "  def __init__(self, name, age, grade):\n",
        "    SchoolMember.__init__(self, name, age)\n",
        "    self.grade = grade\n",
        "    print('(Initialized Student: {})'.format(self.name))\n",
        "  \n",
        "  def tell(self):\n",
        "    SchoolMember.tell(self)\n",
        "    print('Grade: \"{:d}\"'.format(self.grade))\n",
        "\n",
        "t = Teacher('Mrs. Alyssa', 40, 30000)\n",
        "\n",
        "print()\n",
        "s = Student('Daniel', 25, 75)\n",
        "\n",
        "print()\n",
        "members = [t, s]\n",
        "for member in members:\n",
        "  member.tell()"
      ],
      "metadata": {
        "colab": {
          "base_uri": "https://localhost:8080/"
        },
        "id": "ki2f-L4A4y70",
        "outputId": "a870734d-241a-402d-b39e-bb0cccad878f"
      },
      "execution_count": null,
      "outputs": [
        {
          "output_type": "stream",
          "name": "stdout",
          "text": [
            "(Initialized SchoolMember: Mrs. Alyssa)\n",
            "(Initialized Teacher: Mrs. Alyssa)\n",
            "\n",
            "(Initialized SchoolMember: Daniel)\n",
            "(Initialized Student: Daniel)\n",
            "\n",
            "Name:\"Mrs. Alyssa\" Age:\"40\" Name:\"Daniel\" Age:\"25\" Grade: \"75\"\n"
          ]
        }
      ]
    },
    {
      "cell_type": "markdown",
      "source": [
        "**Data Hiding(Encapsulation):**"
      ],
      "metadata": {
        "id": "syK-aa9Rru5r"
      }
    },
    {
      "cell_type": "code",
      "source": [
        "class Robot:\n",
        "  def __init__(self):\n",
        "    self.a = 123 # public object variable\n",
        "    self._b = 123 # private object variable (by convention - not a hard variable)\n",
        "    self.__c = 123 # Python enforced private variable\n",
        "\n",
        "new_robot = Robot()\n",
        "print(new_robot.a) # publicly accessible\n",
        "print(new_robot._b) # publicly accessible, but private by convention\n",
        "#print(new_robot.__c) # Python enforced private variable, access throws error"
      ],
      "metadata": {
        "colab": {
          "base_uri": "https://localhost:8080/"
        },
        "id": "OQL5KtUUF-NY",
        "outputId": "aff4bf18-6d2a-4c37-f440-2f01fda48a33"
      },
      "execution_count": null,
      "outputs": [
        {
          "output_type": "stream",
          "name": "stdout",
          "text": [
            "123\n",
            "123\n"
          ]
        }
      ]
    },
    {
      "cell_type": "code",
      "source": [
        "class Queue:\n",
        "    def __init__(self, contents):\n",
        "        self._hiddenlist = list(contents)\n",
        "\n",
        "    def push(self, value):\n",
        "        self._hiddenlist.insert(0, value)\n",
        "\n",
        "    def pop(self):\n",
        "        return self._hiddenlist.pop(-1)\n",
        "\n",
        "    def __repr__(self):\n",
        "        return \"Queue({})\".format(self._hiddenlist)\n",
        "\n",
        "queue = Queue([1, 2, 3])\n",
        "print(queue)\n",
        "queue.push(0)\n",
        "print(queue)\n",
        "queue.pop()\n",
        "print(queue)\n",
        "print(queue._hiddenlist)\n"
      ],
      "metadata": {
        "colab": {
          "base_uri": "https://localhost:8080/"
        },
        "id": "V9byqMHPruUD",
        "outputId": "efecae69-4e0a-47de-bec3-a87b93276117"
      },
      "execution_count": null,
      "outputs": [
        {
          "output_type": "stream",
          "name": "stdout",
          "text": [
            "Queue([1, 2, 3])\n",
            "Queue([0, 1, 2, 3])\n",
            "Queue([0, 1, 2])\n",
            "[0, 1, 2]\n"
          ]
        }
      ]
    },
    {
      "cell_type": "code",
      "source": [
        "class Spam:\n",
        "    __egg = 7\n",
        "    def print_egg(self):\n",
        "        print(self.__egg)\n",
        "\n",
        "s = Spam()\n",
        "s.print_egg()"
      ],
      "metadata": {
        "colab": {
          "base_uri": "https://localhost:8080/"
        },
        "id": "hGPRoseQWAwB",
        "outputId": "ffdf3ac2-bd5c-4f0e-9941-3c78160f8345"
      },
      "execution_count": null,
      "outputs": [
        {
          "output_type": "stream",
          "name": "stdout",
          "text": [
            "7\n"
          ]
        }
      ]
    },
    {
      "cell_type": "code",
      "source": [
        "class BankAccount:\n",
        "    def __init__(self, balance):\n",
        "        self._balance = balance\n",
        "\n",
        "    def __repr__(self):\n",
        "        return \"Account Balance: {}\".format(self._balance)\n",
        "    \n",
        "    def deposit(self, amount):\n",
        "        self._balance += amount\n",
        "\n",
        "acc = BankAccount(10)\n",
        "acc.deposit(44)\n",
        "print(acc)\n"
      ],
      "metadata": {
        "colab": {
          "base_uri": "https://localhost:8080/"
        },
        "id": "9k_Ywtkktwkf",
        "outputId": "295eeb15-9122-44a4-b563-70df033014f1"
      },
      "execution_count": null,
      "outputs": [
        {
          "output_type": "stream",
          "name": "stdout",
          "text": [
            "Account Balance: 54\n"
          ]
        }
      ]
    },
    {
      "cell_type": "markdown",
      "source": [
        "**Note: How would you access attribute __a of class _b be accessed outside of the class?**\n",
        "\n",
        "**Ans: _b__a** "
      ],
      "metadata": {
        "id": "whFoEXOM4C_L"
      }
    },
    {
      "cell_type": "code",
      "source": [
        "class Rectangle:\n",
        "    def __init__(self, width, height):\n",
        "        self.width = width\n",
        "        self.height = height\n",
        "\n",
        "    def area_of_square(self):\n",
        "        return self.width * self.height\n",
        "        \n",
        "    def area_of_triangle(self):\n",
        "        return (self.width*self.height)*1/2\n",
        "\n",
        "    @classmethod\n",
        "    def new_square(cls, side_length):\n",
        "        return cls(side_length, side_length)\n",
        "\n",
        "    @classmethod\n",
        "    def new_triagle(cls,width,height):\n",
        "        return cls(width,height)\n",
        "\n",
        "square = Rectangle.new_square(5)\n",
        "print(\"Area of Square is {}\".format(square.area_of_square()))\n",
        "triangle = Rectangle.new_triagle(2,5)\n",
        "print(\"Area of Triangle is {}\".format(triangle.area_of_triangle()))\n"
      ],
      "metadata": {
        "colab": {
          "base_uri": "https://localhost:8080/"
        },
        "id": "qu3LVBrD2Xui",
        "outputId": "3fd80b00-c69d-4e2f-b858-3256dc40fe1a"
      },
      "execution_count": null,
      "outputs": [
        {
          "output_type": "stream",
          "name": "stdout",
          "text": [
            "Area of Square is 25\n",
            "Area of Triangle is 5.0\n"
          ]
        }
      ]
    },
    {
      "cell_type": "code",
      "source": [
        "class Robot:\n",
        "  def __init__(self):\n",
        "    self.__version = 22\n",
        "  # getter function\n",
        "  def getVersion(self):\n",
        "    print(self.__version)\n",
        "  # setter function\n",
        "  def setVersion(self, version):\n",
        "    self.__version = version\n",
        "\n",
        "new_robot = Robot()\n",
        "new_robot.getVersion()\n",
        "new_robot.setVersion(23)\n",
        "new_robot.getVersion()\n",
        "#print(new_robot.__version) # private variable throws error"
      ],
      "metadata": {
        "colab": {
          "base_uri": "https://localhost:8080/"
        },
        "id": "uHzD45HIBmds",
        "outputId": "7fa05ee9-8947-480d-a88c-d5d2cd49d026"
      },
      "execution_count": null,
      "outputs": [
        {
          "output_type": "stream",
          "name": "stdout",
          "text": [
            "22\n",
            "23\n"
          ]
        }
      ]
    },
    {
      "cell_type": "markdown",
      "source": [
        "**Abstraction**:  This capability is especially useful in situations where a third-party is going to provide implementations, such\n",
        "as with plugins, but can also help you when working in a large team or with a large code-base where keeping all classes in your mind is difficult or not possible. **(using cls)**"
      ],
      "metadata": {
        "id": "Nj63ZB2sOq6C"
      }
    },
    {
      "cell_type": "code",
      "source": [
        "from abc import ABC, abstractmethod # imported abstract base class\n",
        "\n",
        "class Polygon(ABC): # Parent Abstract Method\n",
        "  def noofSides(self):\n",
        "    pass\n",
        "\n",
        "class Triangle(Polygon): # Child Class #1 of Polygon Parent Abstract Class\n",
        "  def noofSides(self):\n",
        "      print('I hava 3 sides')\n",
        "class Quadilateral(Polygon):\n",
        "  def noofSides(self): # overriding abstract method\n",
        "      print('I have 4 sides')\n",
        "class Pentagon(Polygon):\n",
        "  def noofSides(self):\n",
        "      print('I have 5 sides')\n",
        "class Hexagon(Polygon):\n",
        "  def noofSides(self):\n",
        "      print('I have 6 sides') \n",
        "\n",
        "triangle = Triangle()\n",
        "triangle.noofSides()\n",
        "\n",
        "pentagon = Pentagon()\n",
        "pentagon.noofSides()"
      ],
      "metadata": {
        "colab": {
          "base_uri": "https://localhost:8080/"
        },
        "id": "FOUpeW-1J4df",
        "outputId": "afab45a9-46f5-43ed-8870-4265d7182284"
      },
      "execution_count": null,
      "outputs": [
        {
          "output_type": "stream",
          "name": "stdout",
          "text": [
            "I hava 3 sides\n",
            "I have 5 sides\n"
          ]
        }
      ]
    },
    {
      "cell_type": "code",
      "source": [
        "# Python program invoking a method using super()\n",
        "from abc import ABC, abstractmethod\n",
        "# create a parent Abstract Class\n",
        "class Parent(ABC):\n",
        "# define concrete method in abstract class\n",
        "  def rk(self):\n",
        "     print(\"Abstract Base Class\")\n",
        "# create a child Concrete Class\n",
        "class Child(Parent):\n",
        "  def rk(self):\n",
        "    super().rk()\n",
        "    print(\"subclass\")\n",
        "# create new object from Concrete Class\n",
        "new_object = Child()\n",
        "new_object.rk()"
      ],
      "metadata": {
        "colab": {
          "base_uri": "https://localhost:8080/"
        },
        "id": "e_4S1ZfSRq0q",
        "outputId": "b7516839-a727-49e5-830f-1d712533fb65"
      },
      "execution_count": null,
      "outputs": [
        {
          "output_type": "stream",
          "name": "stdout",
          "text": [
            "Abstract Base Class\n",
            "subclass\n"
          ]
        }
      ]
    },
    {
      "cell_type": "code",
      "source": [
        "class Robot:\n",
        "  population = 0\n",
        "  def __init__(self, name):\n",
        "    self.name = name \n",
        "    print(\"(Initializing {})\".format(self.name))\n",
        "    # When a new robot is created, the robot adds to the population\n",
        "    Robot.population += 1\n",
        "  def die(self):\n",
        "    print(\"{} is being destroyed!\".format(self.name))\n",
        "    Robot.population -= 1\n",
        "    if Robot.population == 0:\n",
        "      print(\"{} was the last one.\".format(self.name))\n",
        "    else:\n",
        "      print(\"There are still {:d} robots working.\".format(Robot.population))\n",
        "      \n",
        "  def say_hi(self):\n",
        "    print(\"Greetings, my masters call me {}.\".format(self.name))\n",
        "\n",
        "  @classmethod\n",
        "  def how_many(cls):\n",
        "    print(\"We have {:d} robots.\".format(cls.population))\n",
        "\n",
        "droid1 = Robot(\"R2-D2\")\n",
        "droid1.say_hi()\n",
        "Robot.how_many()\n",
        "droid2 = Robot(\"C-3PO\")\n",
        "droid2.say_hi()\n",
        "Robot.how_many()\n",
        "print(\"\\nRobots can do some work here.\\n\")\n",
        "print(\"Robots have finished their work. So let's destroy them.\")\n",
        "droid1.die()\n",
        "droid2.die()\n",
        "Robot.how_many()"
      ],
      "metadata": {
        "id": "OEDCILJIT9gC",
        "colab": {
          "base_uri": "https://localhost:8080/"
        },
        "outputId": "98c2999f-cca9-4085-8dba-d6fbd0a2c880"
      },
      "execution_count": null,
      "outputs": [
        {
          "output_type": "stream",
          "name": "stdout",
          "text": [
            "(Initializing R2-D2)\n",
            "Greetings, my masters call me R2-D2.\n",
            "We have 1 robots.\n",
            "(Initializing C-3PO)\n",
            "Greetings, my masters call me C-3PO.\n",
            "We have 2 robots.\n",
            "\n",
            "Robots can do some work here.\n",
            "\n",
            "Robots have finished their work. So let's destroy them.\n",
            "R2-D2 is being destroyed!\n",
            "There are still 1 robots working.\n",
            "C-3PO is being destroyed!\n",
            "C-3PO was the last one.\n",
            "We have 0 robots.\n"
          ]
        }
      ]
    },
    {
      "cell_type": "code",
      "source": [
        "class University:\n",
        "  no_of_student = 0\n",
        "\n",
        "  def __init__(self,studentName):\n",
        "    self.studentName = studentName \n",
        "    print('Initializing {}'.format(self.studentName))\n",
        "    University.no_of_student += 1\n",
        "\n",
        "  def delStudent(self):\n",
        "    print('{} is not following rules so lets terminate.'.format(self.studentName))\n",
        "    if University.no_of_student == 0:\n",
        "      print('{} is last student of University.'.format(self.studentName))\n",
        "    else:\n",
        "      University.no_of_student -= 1\n",
        "      \n",
        "  def countStudent(self):\n",
        "    print('There are still {} student studying.'.format(University.no_of_student))\n",
        "\n",
        "  def say_hi(self):\n",
        "    print('Greetings, My master call me {}.'.format(self.studentName))\n",
        "  \n",
        "  @classmethod\n",
        "  def countStudent(cls):\n",
        "    print('We have total {} students.'.format(cls.no_of_student))\n",
        "\n",
        "stName1 = University('Ram')\n",
        "stName1.say_hi()\n",
        "stName2 = University('Shyam')\n",
        "stName2.say_hi()\n",
        "University.countStudent()\n",
        "stName2.delStudent()\n",
        "University.countStudent()"
      ],
      "metadata": {
        "colab": {
          "base_uri": "https://localhost:8080/"
        },
        "id": "a2lXOqyx2BjC",
        "outputId": "e33b7b92-aaad-46f2-a9c6-22e9aa8926c3"
      },
      "execution_count": null,
      "outputs": [
        {
          "output_type": "stream",
          "name": "stdout",
          "text": [
            "Initializing Ram\n",
            "Greetings, My master call me Ram.\n",
            "Initializing Shyam\n",
            "Greetings, My master call me Shyam.\n",
            "We have total 2 students.\n",
            "Shyam is not following rules so lets terminate.\n",
            "We have total 1 students.\n"
          ]
        }
      ]
    },
    {
      "cell_type": "markdown",
      "source": [
        "**What is the difference between Classmethod and Staticmethod in Python**?\n",
        "\n",
        "A class method takes cls as the first parameter while a static method needs no specific parameters. A class method can access or modify the class state while a static method can't access or modify it. In general, static methods know nothing about the class state."
      ],
      "metadata": {
        "id": "v9jn0GsaEhTX"
      }
    },
    {
      "cell_type": "markdown",
      "source": [
        "**What is the difference between abstract and abstract class**?\n",
        "\n",
        "Abstract class a type of class that object can not be create it contain abstract or not abstract method while abstraction is mechanism of data hiding."
      ],
      "metadata": {
        "id": "5W_Ai9jEFdUM"
      }
    },
    {
      "cell_type": "code",
      "source": [
        "# Python program showing abstract class cannot be an instantiation\n",
        "from abc import ABC,abstractmethod\n",
        "class Animal(ABC):\n",
        "  @abstractmethod\n",
        "  def move(self):\n",
        "    pass\n",
        "class Human(Animal):\n",
        "  def move(self):\n",
        "    print(\"I can walk and run\")\n",
        "class Snake(Animal):\n",
        "  def move(self):\n",
        "    print(\"I can crawl\")\n",
        "class Dog(Animal):\n",
        "  def move(self):\n",
        "    print(\"I can bark\")\n",
        "class Lion(Animal):\n",
        "  def move(self):\n",
        "    print(\"I can roar\")\n",
        "obj = Lion()\n",
        "obj.move()\n",
        "obj2 = Human()\n",
        "obj2.move()"
      ],
      "metadata": {
        "colab": {
          "base_uri": "https://localhost:8080/"
        },
        "id": "xNPyaNPy-I_-",
        "outputId": "feefe024-c027-4382-d153-bd971babd286"
      },
      "execution_count": null,
      "outputs": [
        {
          "output_type": "stream",
          "name": "stdout",
          "text": [
            "I can roar\n",
            "I can walk and run\n"
          ]
        }
      ]
    },
    {
      "cell_type": "code",
      "source": [
        "from abc import ABC, abstractmethod\n",
        "class Toys(ABC):\n",
        "  def __init__(self):\n",
        "    pass\n",
        "\n",
        "  def teddy_bear(self):\n",
        "    print('Hi, I am teddy bear, and kids love me.')  \n",
        "  \n",
        "  def bicycle(self):\n",
        "    print('Hi, I am bicycle, and people use me to being healthy.')\n",
        "  \n",
        "  def kite(self):\n",
        "    print('Hi, I am kite, and I love to fly in sky.')\n",
        "\n",
        "toy1 = Toys()\n",
        "toy1.teddy_bear()\n",
        "\n",
        "toy2 = Toys()\n",
        "toy2.bicycle()\n",
        "\n",
        "toy3 = Toys()\n",
        "toy3.kite()"
      ],
      "metadata": {
        "colab": {
          "base_uri": "https://localhost:8080/"
        },
        "id": "LEJ-mWxyIn9G",
        "outputId": "2ed687f7-3dc5-4a57-a121-74c0910a4eb5"
      },
      "execution_count": null,
      "outputs": [
        {
          "output_type": "stream",
          "name": "stdout",
          "text": [
            "Hi, I am teddy bear, and kids love me.\n",
            "Hi, I am bicycle, and people use me to being healthy.\n",
            "Hi, I am kite, and I love to fly in sky.\n"
          ]
        }
      ]
    },
    {
      "cell_type": "code",
      "source": [
        ""
      ],
      "metadata": {
        "id": "fDa8XTrzLz84"
      },
      "execution_count": null,
      "outputs": []
    }
  ],
  "metadata": {
    "colab": {
      "name": "Python OOPs.ipynb",
      "provenance": [],
      "collapsed_sections": []
    },
    "kernelspec": {
      "display_name": "Python 3",
      "name": "python3"
    },
    "language_info": {
      "name": "python"
    }
  },
  "nbformat": 4,
  "nbformat_minor": 0
}